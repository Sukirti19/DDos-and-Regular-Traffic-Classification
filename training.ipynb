{
  "nbformat": 4,
  "nbformat_minor": 0,
  "metadata": {
    "colab": {
      "provenance": []
    },
    "kernelspec": {
      "name": "python3",
      "display_name": "Python 3"
    },
    "language_info": {
      "name": "python"
    }
  },
  "cells": [
    {
      "cell_type": "code",
      "execution_count": 27,
      "metadata": {
        "id": "YhJkcMourPdP",
        "colab": {
          "base_uri": "https://localhost:8080/"
        },
        "outputId": "bd3efdd6-8e24-488c-9c97-3af934a1420b"
      },
      "outputs": [
        {
          "output_type": "stream",
          "name": "stdout",
          "text": [
            "Model saved as ddos_model.pkl\n"
          ]
        }
      ],
      "source": [
        "import pandas as pd\n",
        "from sklearn.model_selection import train_test_split\n",
        "from sklearn.preprocessing import LabelEncoder\n",
        "from sklearn.ensemble import RandomForestClassifier\n",
        "from sklearn.svm import SVC\n",
        "from sklearn.tree import DecisionTreeClassifier\n",
        "from sklearn.linear_model import LogisticRegression\n",
        "from sklearn.cluster import KMeans\n",
        "from sklearn.decomposition import PCA\n",
        "from sklearn.metrics import accuracy_score, classification_report\n",
        "import joblib\n",
        "\n",
        "def load_data(file_path):\n",
        "    data = pd.read_csv(file_path)\n",
        "    return data\n",
        "\n",
        "def preprocess_data(data):\n",
        "    label_encoder = LabelEncoder()\n",
        "    data['label'] = label_encoder.fit_transform(data['label'])\n",
        "\n",
        "    data = pd.get_dummies(data, columns=['src', 'dst', 'Protocol'])\n",
        "\n",
        "    #print(combined_data.isnull().sum())\n",
        "    data = data.dropna()\n",
        "\n",
        "    X = data.drop('label', axis=1)\n",
        "    y = data['label']\n",
        "\n",
        "    X_train, X_test, y_train, y_test = train_test_split(X, y, test_size=0.3, random_state=42)\n",
        "    return X_train, X_test, y_train, y_test\n",
        "\n",
        "def train_model(X_train, y_train):\n",
        "    model = RandomForestClassifier(n_estimators=100, random_state=42)\n",
        "    model.fit(X_train, y_train)\n",
        "    return model\n",
        "\n",
        "def save_model(model, model_filename='OC_compare_model.pkl'):\n",
        "    joblib.dump(model, model_filename)\n",
        "    print(f\"Model saved as {model_filename}\")\n",
        "\n",
        "def load_model(model_filename='OC_compare_model.pkl'):\n",
        "    loaded_model = joblib.load(model_filename)\n",
        "    return loaded_model\n",
        "\n",
        "\n",
        "# Load and preprocess data\n",
        "data = load_data(\"/content/dataset_sdn.csv\")\n",
        "X_train,X_test,y_train,y_test = preprocess_data(data)\n",
        "\n",
        "# Train the model with a RandomForest\n",
        "ddos_model = train_model(X_train, y_train)\n",
        "\n",
        "#evalution already done in best_selection_method.ipynb\n",
        "\n",
        "# Save the model\n",
        "save_model(ddos_model, 'ddos_model.pkl')"
      ]
    },
    {
      "cell_type": "code",
      "source": [],
      "metadata": {
        "id": "qoKgm5OdCBF1"
      },
      "execution_count": null,
      "outputs": []
    }
  ]
}