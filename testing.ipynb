{
  "nbformat": 4,
  "nbformat_minor": 0,
  "metadata": {
    "colab": {
      "provenance": []
    },
    "kernelspec": {
      "name": "python3",
      "display_name": "Python 3"
    },
    "language_info": {
      "name": "python"
    }
  },
  "cells": [
    {
      "cell_type": "code",
      "execution_count": 34,
      "metadata": {
        "id": "YhJkcMourPdP"
      },
      "outputs": [],
      "source": [
        "import pandas as pd\n",
        "from sklearn.model_selection import train_test_split\n",
        "import joblib\n",
        "from sklearn.preprocessing import LabelEncoder\n",
        "from sklearn.metrics import accuracy_score\n",
        "\n",
        "def preprocess_data(data):\n",
        "    label_encoder = LabelEncoder()\n",
        "    data['label'] = label_encoder.fit_transform(data['label'])\n",
        "\n",
        "    data = pd.get_dummies(data, columns=['src', 'dst', 'Protocol'])\n",
        "\n",
        "    #print(combined_data.isnull().sum())\n",
        "    data = data.dropna()\n",
        "\n",
        "    X = data.drop('label', axis=1)\n",
        "    y = data['label']\n",
        "    return X,y\n",
        "\n",
        "def load_data(file_path):\n",
        "    data = pd.read_csv(file_path)\n",
        "    return data\n",
        "\n",
        "def load_model(model_filename):\n",
        "    loaded_model = joblib.load(model_filename)\n",
        "    return loaded_model\n",
        "\n",
        "loaded_model = load_model('/content/ddos_model.pkl')\n",
        "data = load_data(\"/content/testdata.csv\")\n",
        "X,y= preprocess_data(data)\n",
        "y_pred=loaded_model.predict(X)\n",
        "accuracy=accuracy_score(y,y_pred)\n"
      ]
    }
  ]
}