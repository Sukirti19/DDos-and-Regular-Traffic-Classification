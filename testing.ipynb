{
  "nbformat": 4,
  "nbformat_minor": 0,
  "metadata": {
    "colab": {
      "provenance": []
    },
    "kernelspec": {
      "name": "python3",
      "display_name": "Python 3"
    },
    "language_info": {
      "name": "python"
    }
  },
  "cells": [
    {
      "cell_type": "code",
      "execution_count": 36,
      "metadata": {
        "id": "YhJkcMourPdP",
        "colab": {
          "base_uri": "https://localhost:8080/"
        },
        "outputId": "a32cd10d-4df5-4e77-bd8b-2f1a49122df3"
      },
      "outputs": [
        {
          "output_type": "stream",
          "name": "stdout",
          "text": [
            "Accuracy: 1.0\n",
            "Classification Report:\n",
            "               precision    recall  f1-score   support\n",
            "\n",
            "           0       1.00      1.00      1.00         3\n",
            "           1       1.00      1.00      1.00         2\n",
            "\n",
            "    accuracy                           1.00         5\n",
            "   macro avg       1.00      1.00      1.00         5\n",
            "weighted avg       1.00      1.00      1.00         5\n",
            "\n",
            "Model saved as ddos_model.pkl\n"
          ]
        }
      ],
      "source": [
        "import pandas as pd\n",
        "from sklearn.model_selection import train_test_split\n",
        "from sklearn.preprocessing import LabelEncoder\n",
        "from sklearn.ensemble import RandomForestClassifier\n",
        "from sklearn.svm import SVC\n",
        "from sklearn.tree import DecisionTreeClassifier\n",
        "from sklearn.linear_model import LogisticRegression\n",
        "from sklearn.cluster import KMeans\n",
        "from sklearn.decomposition import PCA\n",
        "from sklearn.metrics import accuracy_score, classification_report\n",
        "import joblib\n",
        "\n",
        "def load_data(file_path):\n",
        "    data = pd.read_csv(file_path)\n",
        "    return data\n",
        "\n",
        "def preprocess_data(data):\n",
        "    label_encoder = LabelEncoder()\n",
        "    data['label'] = label_encoder.fit_transform(data['label'])\n",
        "\n",
        "    data = pd.get_dummies(data, columns=['src', 'dst', 'Protocol'])\n",
        "\n",
        "    #print(combined_data.isnull().sum())\n",
        "    data = data.dropna()\n",
        "\n",
        "    X = data.drop('label', axis=1)\n",
        "    y = data['label']\n",
        "\n",
        "    X_train, X_test, y_train, y_test = train_test_split(X, y, test_size=0.3, random_state=42)\n",
        "    return X_train, X_test, y_train, y_test\n",
        "\n",
        "def train_model(X_train, y_train):\n",
        "    model = RandomForestClassifier(n_estimators=100, random_state=42)\n",
        "    model.fit(X_train, y_train)\n",
        "    return model\n",
        "\n",
        "def evaluate_model(model, X_test, y_test):\n",
        "    y_pred = model.predict(X_test)\n",
        "    accuracy = accuracy_score(y_test, y_pred)\n",
        "    print(f\"Accuracy: {accuracy}\")\n",
        "    print(\"Classification Report:\\n\", classification_report(y_test, y_pred))\n",
        "\n",
        "def save_model(model, model_filename='OC_compare_model.pkl'):\n",
        "    joblib.dump(model, model_filename)\n",
        "    print(f\"Model saved as {model_filename}\")\n",
        "\n",
        "def load_model(model_filename='OC_compare_model.pkl'):\n",
        "    loaded_model = joblib.load(model_filename)\n",
        "    return loaded_model\n",
        "\n",
        "def predict_instance(model, input_instance):\n",
        "    methods = {\n",
        "        'SVM': SVC(),\n",
        "        'DecisionTree': DecisionTreeClassifier(),\n",
        "        'LogisticRegression': LogisticRegression(),\n",
        "        'KMeans': KMeans(n_clusters=2),  # Specify the number of clusters as needed\n",
        "        'PCA': PCA(n_components=2)\n",
        "    }\n",
        "\n",
        "    predictions_table = {}\n",
        "    for method, method_model in methods.items():\n",
        "        method_model.fit(X_train, y_train)\n",
        "        prediction = method_model.predict(input_instance)\n",
        "        predictions_table[method] = prediction[0]\n",
        "\n",
        "    # Print the predictions table\n",
        "    print(\"Predictions for the given instance:\")\n",
        "    print(pd.DataFrame(predictions_table.items(), columns=['Method', 'Predicted Class']))\n",
        "\n",
        "# Load and preprocess data\n",
        "data = load_data(\"/content/testdata.csv\")\n",
        "X_train,X_test,y_train,y_test = preprocess_data(data)\n",
        "\n",
        "# Train the model with a specific method (e.g., RandomForest)\n",
        "ddos_model = train_model(X_train, y_train)\n",
        "\n",
        "# Evaluate the model\n",
        "evaluate_model(ddos_model, X_test, y_test)\n",
        "\n",
        "# Save the model\n",
        "save_model(ddos_model, 'ddos_model.pkl')\n",
        "\n",
        "# Later, when you want to use the model for predictions\n",
        "loaded_model = load_model('ddos_model.pkl')"
      ]
    }
  ]
}